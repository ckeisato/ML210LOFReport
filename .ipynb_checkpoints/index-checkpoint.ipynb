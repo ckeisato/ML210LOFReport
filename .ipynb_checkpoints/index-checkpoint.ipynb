{
 "cells": [
  {
   "cell_type": "markdown",
   "metadata": {},
   "source": [
    "## MLearn 210: Final Project - Local Outlier Factor Report\n",
    "#### December 10, 2018"
   ]
  },
  {
   "cell_type": "markdown",
   "metadata": {},
   "source": [
    "Local Outlier Factor (LOF) is unsupervised learning algorithm for anomaly detection that utilizes the local density of a data point.  The algorithm calculates the local density of each point, a measure of how crowded the area around the observation is, and compares it with its neighbors.  Data points that have a much lower density than its surrounding points are recognized as anomalies.  While there are other anomaly detection algorithms, LOF addresses the problem of a data point being a local outlier, which is an a outlier relative to its surrounding points instead of relative to the entire dataset.  This maybe be useful to flag data points that would otherwise not be considered outliers because their values may be close to the global mean feature attribute values, but the points themselves are in between two far apart clusters."
   ]
  },
  {
   "cell_type": "markdown",
   "metadata": {},
   "source": [
    "To determine the LOF of a datapoint, the local reachability density has to be calculated using the using k-distance, reachability distance, and min-points."
   ]
  },
  {
   "cell_type": "markdown",
   "metadata": {},
   "source": [
    "##### The k-distance of a data point is defined as:\n",
    "\n",
    "    For any positive integer k, the k-distance of object p, denoted as k-distance(p), is defined as the distance d(p,o) between p and an object o ∈ D such that:\t\t\t\t\n",
    "        (i) for at least k objects o’∈D \\ {p} it holds that d(p,o’) ≤ d(p,o), and\n",
    "        (ii) for at most k-1 objects o’∈D\\{p} it holds that d(p,o’) < d(p,o).\n",
    "<sup>1</sup>"
   ]
  },
  {
   "cell_type": "markdown",
   "metadata": {},
   "source": [
    "Given this definition, if k = 3, the k-distance of point p is the distance from p to its third closest neighbor"
   ]
  },
  {
   "cell_type": "markdown",
   "metadata": {},
   "source": [
    "#### The reachability distance is defined as:\n",
    "    (reachability distance of an object p with respect to object o)\n",
    "            Let k be a natural number. The reachability distance of object p with respect to object o is defined as\n",
    "            reach-distk(p, o) = max { k-distance(o), d(p, o) }.\n",
    "<sup>2</sup>"
   ]
  },
  {
   "cell_type": "markdown",
   "metadata": {},
   "source": [
    "The reachability distance between datapoint p with respect to datapoint o is either the actual distance between two data points or the k distance of p, whichever is larger.  If p is within the k-distance neighborhood of o, then its reachability distance with respect to o is the k-distance of o.  If k = 3, then for the 2nd nearest neighbor of point p, the reachability distance of that datapoint with respect to p will be the k-distance of p (the distance from p to its 3rd nearest neighbor).  The reachability distance is a smoothing factor to account for differences amongst data points in the same k-neighborhood.\n",
    "We also specify minpoints, which is a parameter to specify the volume for the local reachability density.  Minpoints is often greater than or equal to k."
   ]
  },
  {
   "cell_type": "markdown",
   "metadata": {},
   "source": [
    "#### The local reachability density is defined as: \n",
    "\n",
    "$$lrd(p) = 1/{\\frac{\\sum\\limits_{o\\in{nMinPoints(p)}}{reachDistance Minpoints(o,p)}}{|nMinpoints|}}$$\n",
    "<sup>3</sup>\n",
    "\n",
    "Given a value for minpoints, the local reachability density for point p is the inverse of it average reach distance over minpoints number of neighbors."
   ]
  },
  {
   "cell_type": "markdown",
   "metadata": {},
   "source": [
    "#### Finally the local outlier factor is defined as\n",
    "$$LOF minpoints(p) = \\frac{\\sum\\limits_{o\\in{nMinPoints(p)}}{\\frac{lrd minpoints(o)}{lrd minpoints(p)}}}{|nMinpoints|}$$\n",
    "<sup>4</sup>"
   ]
  },
  {
   "cell_type": "markdown",
   "metadata": {},
   "source": [
    "With this definition, the LOF of a point p is the average ratio of it’s local reachability density compared to that of its minpoints number of neighbors.  If a data point has an LOF around 1, then its density is similar to its neighbors, while if its LOF greater than 1, then its density is much lower than that of its neighbors and it may be an outlier."
   ]
  },
  {
   "cell_type": "code",
   "execution_count": 60,
   "metadata": {},
   "outputs": [
    {
     "data": {
      "image/png": "[encoded data removed]",
      "text/plain": [
       "<matplotlib.figure.Figure at 0x1a140702e8>"
      ]
     },
     "metadata": {},
     "output_type": "display_data"
    }
   ],
   "source": [
    "# Create synthetic dataset with 2 clusters and a few points that are inbetween\n",
    "# value clusters: has values between -1 and -.5 or .5 and 1\n",
    "# value other stuff: values between -.5 and .5?\n",
    "import pandas as pd\n",
    "import numpy as np\n",
    "import matplotlib.pyplot as plt\n",
    "\n",
    "num_items = 30\n",
    "num_outliers = 4\n",
    "\n",
    "cluster_one = pd.DataFrame(np.random.uniform(low=-10, high=-5, size=(num_items, 2)), columns=['x', 'y'])\n",
    "cluster_two = pd.DataFrame(np.random.uniform(low=5, high=10, size=(num_items, 2)), columns=['x', 'y'])\n",
    "outliers = pd.DataFrame(np.random.uniform(low=-3, high=3, size=(num_outliers, 2)), columns=['x', 'y'])\n",
    "clusters = cluster_one.append(cluster_two)\n",
    "\n",
    "plt.scatter(clusters.loc[:, 'x'], clusters.loc[:, 'y'], c='b', marker='o')\n",
    "plt.scatter(outliers.loc[:, 'x'], outliers.loc[:, 'y'], c='r', marker='o')\n",
    "plt.show()"
   ]
  },
  {
   "cell_type": "code",
   "execution_count": 64,
   "metadata": {},
   "outputs": [
    {
     "data": {
      "image/png": "[encoded data removed]",
      "text/plain": [
       "<matplotlib.figure.Figure at 0x1a148cf9b0>"
      ]
     },
     "metadata": {},
     "output_type": "display_data"
    }
   ],
   "source": [
    "from sklearn.neighbors import LocalOutlierFactor\n",
    "data = clusters.append(outliers)\n",
    "clf = LocalOutlierFactor(n_neighbors=5)\n",
    "prediction = clf.fit_predict(data)\n",
    "\n",
    "inliers_array = list(map(lambda x: True if x == 1 else False, prediction))\n",
    "outliers_array = list(map(lambda x: False if x == 1 else True, prediction))\n",
    "predicted_inliers = data[inliers_array]\n",
    "\n",
    "plt.scatter(data[inliers_array].loc[:, 'x'], data[inliers_array].loc[:, 'y'], c='b', marker='o')\n",
    "plt.scatter(data[outliers_array].loc[:, 'x'], data[outliers_array].loc[:, 'y'], c='r', marker='o')\n",
    "plt.show()\n",
    "                             "
   ]
  },
  {
   "cell_type": "code",
   "execution_count": 92,
   "metadata": {},
   "outputs": [
    {
     "data": {
      "image/png": "[encoded data removed]",
      "text/plain": [
       "<matplotlib.figure.Figure at 0x1a145bcb38>"
      ]
     },
     "metadata": {},
     "output_type": "display_data"
    }
   ],
   "source": [
    "from sklearn.datasets import load_boston\n",
    "boston = load_boston()\n",
    "data = pd.DataFrame(boston.data, columns = boston['feature_names'])\n",
    "data['MEDV'] = boston.target\n",
    "data.head()\n",
    "\n",
    "plt.scatter(data.loc[:, 'CRIM'], data.loc[:, 'MEDV'], marker='o')\n",
    "plt.xlabel = 'per capita crime rate by town'\n",
    "plt.ylabel = 'Median value of owner-occupied homes in $1000’s'\n",
    "plt.show()"
   ]
  },
  {
   "cell_type": "markdown",
   "metadata": {},
   "source": [
    "### PROS AND CONS  (TODO: write a summary????)\n",
    "\n",
    "The main advantage of LOF is that it recognizes local outliers that may not be found by other anomaly detection algorithms.  Because LOF is always a ratio of the density of a point and the density of its neighbors points, it will inherently be a local comparison.  Other outlier detection strategies may look for outliers using a global average and will not find such local anomalies.  Another advantage of LOF is that it can be extended for use in high dimensional data.  For example, LOF was one of the highest performing algorithms when used to detect network intrusion, for which there were 23 features to be analyzed.<sup>5</sup>  LOF is also easy to apply to many different datasets.\n",
    "\n",
    "The main disadvantage to LOF is that it is difficult to determine at what value an LOF score is indicative of a datapoint being an outlier.  In some datasets, a score of 1.1 may mean it’s a strong outlier, while in others a score of 2 could mean that it is similar to other observations throughout the dataset.  This is the result of not comparing data globally but is probably a common problem with unsupervised learning techniques in general.  Some ways to mitigate this are applying LOF in an ensemble learning approach or other extensions of LOF, such as Local Outlier Probability, which returns a value between 0 and 1 to indicate the likelihood that an observation is an anomaly.  \n"
   ]
  },
  {
   "cell_type": "markdown",
   "metadata": {},
   "source": [
    "<sup>1</sup>Markus M. Breunig, Hans-Peter Kriegel, Raymond T. Ng, Jörg Sander 2000, 3\n",
    "\n",
    "<sup>2</sup>Markus M. Breunig, Hans-Peter Kriegel, Raymond T. Ng, Jörg Sander 2000, 3\n",
    "\n",
    "<sup>3</sup>Markus M. Breunig, Hans-Peter Kriegel, Raymond T. Ng, Jörg Sander 2000, 4\n",
    "\n",
    "<sup>4</sup>Markus M. Breunig, Hans-Peter Kriegel, Raymond T. Ng, Jörg Sander 2000, 4\n",
    "\n",
    "<sup>5</sup>Lazarevic, A., Ozgur, A,; Ertoz, L., Srivastava, J., Kumar, V. 2003, 6\n",
    "\n",
    "References \n",
    "- main article\n",
    "- network detection article\n",
    "- wikipedia\n",
    "- the other website..."
   ]
  },
  {
   "cell_type": "code",
   "execution_count": null,
   "metadata": {},
   "outputs": [],
   "source": []
  }
 ],
 "metadata": {
  "kernelspec": {
   "display_name": "Python 3",
   "language": "python",
   "name": "python3"
  },
  "language_info": {
   "codemirror_mode": {
    "name": "ipython",
    "version": 3
   },
   "file_extension": ".py",
   "mimetype": "text/x-python",
   "name": "python",
   "nbconvert_exporter": "python",
   "pygments_lexer": "ipython3",
   "version": "3.6.4"
  }
 },
 "nbformat": 4,
 "nbformat_minor": 2
}
